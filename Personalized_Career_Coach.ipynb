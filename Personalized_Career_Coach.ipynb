{
  "nbformat": 4,
  "nbformat_minor": 0,
  "metadata": {
    "colab": {
      "provenance": []
    },
    "kernelspec": {
      "name": "python3",
      "display_name": "Python 3"
    },
    "language_info": {
      "name": "python"
    }
  },
  "cells": [
    {
      "cell_type": "code",
      "source": [
        "!pip install -q crewai langchain langchainhub langchain-openai openai gradio\n",
        "\n",
        "import os\n",
        "from crewai import Agent, Task, Crew\n",
        "from langchain_openai import ChatOpenAI\n",
        "import gradio as gr\n",
        "\n",
        "# ⚠️ Replace with your actual OpenAI API Key\n",
        "api_key = os.environ.get(\"OPENAI_API_KEY\")\n",
        "\n",
        "if not api_key:\n",
        "    raise ValueError(\"🚨 OPENAI_API_KEY not found. Please add it via the key icon on the left.\")\n",
        "\n",
        "# ✅ Set it for OpenAI SDK\n",
        "os.environ[\"OPENAI_API_KEY\"] = api_key\n",
        "\n",
        "# Use GPT-3.5 or GPT-4\n",
        "llm = ChatOpenAI(model=\"gpt-3.5-turbo\", temperature=0.5)\n",
        "\n",
        "# 🔹 Define CrewAI Agents\n",
        "resume_analyzer = Agent(\n",
        "    role=\"Resume Analyzer\",\n",
        "    goal=\"Analyze the input resume for strengths and weaknesses\",\n",
        "    backstory=\"You're an expert in identifying valuable insights from resumes\",\n",
        "    verbose=True,\n",
        "    allow_delegation=False,\n",
        "    llm=llm\n",
        ")\n",
        "\n",
        "skill_matcher = Agent(\n",
        "    role=\"Skill Matcher\",\n",
        "    goal=\"Match resume skills with in-demand skills from current job market\",\n",
        "    backstory=\"You're up-to-date with industry trends and job requirements\",\n",
        "    verbose=True,\n",
        "    allow_delegation=False,\n",
        "    llm=llm\n",
        ")\n",
        "\n",
        "career_recommender = Agent(\n",
        "    role=\"Career Recommendation Expert\",\n",
        "    goal=\"Suggest best-suited career paths and recommend upskilling courses\",\n",
        "    backstory=\"You specialize in personalized career guidance based on user profiles\",\n",
        "    verbose=True,\n",
        "    allow_delegation=False,\n",
        "    llm=llm\n",
        ")\n",
        "\n",
        "# 🔹 Function to run the CrewAI process\n",
        "def analyze_resume(resume_text):\n",
        "    # Define tasks\n",
        "    task1 = Task(\n",
        "        description=f\"Analyze this resume and highlight strengths, weaknesses, and key areas: {resume_text}\",\n",
        "        expected_output=\"Detailed resume insights with strengths and gaps.\",\n",
        "        agent=resume_analyzer\n",
        "    )\n",
        "\n",
        "    task2 = Task(\n",
        "        description=f\"Match the identified skills with current job market trends and identify missing skills.\",\n",
        "        expected_output=\"List of matched and missing skills from job market.\",\n",
        "        agent=skill_matcher,\n",
        "        context=[task1]\n",
        "    )\n",
        "\n",
        "    task3 = Task(\n",
        "        description=\"Suggest 3 ideal job roles and 3 relevant online courses based on the resume analysis and market trends.\",\n",
        "        expected_output=\"Career suggestions and learning resources.\",\n",
        "        agent=career_recommender,\n",
        "        context=[task1, task2]\n",
        "    )\n",
        "\n",
        "    # Create Crew\n",
        "    crew = Crew(\n",
        "        agents=[resume_analyzer, skill_matcher, career_recommender],\n",
        "        tasks=[task1, task2, task3],\n",
        "        verbose=True\n",
        "    )\n",
        "\n",
        "    # Run and return result\n",
        "    result = crew.kickoff()\n",
        "    return result\n",
        "\n",
        "# 🔹 Gradio UI\n",
        "demo = gr.Interface(\n",
        "    fn=analyze_resume,\n",
        "    inputs=gr.Textbox(lines=15, label=\"Paste Your Resume Text\"),\n",
        "    outputs=gr.Textbox(lines=25, label=\"Personalized Career Insights\"),\n",
        "    title=\"🎯 AI Career Coach with CrewAI\",\n",
        "    description=\"Upload your resume and get personalized job recommendations, skill gap analysis, and course suggestions.\",\n",
        "    theme=\"default\"\n",
        ")\n",
        "\n",
        "demo.launch()\n"
      ],
      "metadata": {
        "colab": {
          "base_uri": "https://localhost:8080/",
          "height": 646
        },
        "id": "F9aRrqdt3BMw",
        "outputId": "113df5e2-d371-4e60-971e-2dc24163551e"
      },
      "execution_count": null,
      "outputs": [
        {
          "output_type": "stream",
          "name": "stdout",
          "text": [
            "It looks like you are running Gradio on a hosted Jupyter notebook, which requires `share=True`. Automatically setting `share=True` (you can turn this off by setting `share=False` in `launch()` explicitly).\n",
            "\n",
            "Colab notebook detected. To show errors in colab notebook, set debug=True in launch()\n",
            "* Running on public URL: https://802ad06b144cebd105.gradio.live\n",
            "\n",
            "This share link expires in 1 week. For free permanent hosting and GPU upgrades, run `gradio deploy` from the terminal in the working directory to deploy to Hugging Face Spaces (https://huggingface.co/spaces)\n"
          ]
        },
        {
          "output_type": "display_data",
          "data": {
            "text/plain": [
              "<IPython.core.display.HTML object>"
            ],
            "text/html": [
              "<div><iframe src=\"https://802ad06b144cebd105.gradio.live\" width=\"100%\" height=\"500\" allow=\"autoplay; camera; microphone; clipboard-read; clipboard-write;\" frameborder=\"0\" allowfullscreen></iframe></div>"
            ]
          },
          "metadata": {}
        },
        {
          "output_type": "execute_result",
          "data": {
            "text/plain": []
          },
          "metadata": {},
          "execution_count": 6
        }
      ]
    },
    {
      "cell_type": "code",
      "source": [],
      "metadata": {
        "id": "7ukhtKoruxJm"
      },
      "execution_count": null,
      "outputs": []
    }
  ]
}